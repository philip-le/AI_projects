{
 "cells": [
  {
   "cell_type": "code",
   "execution_count": 1,
   "metadata": {
    "ExecuteTime": {
     "end_time": "2020-05-05T00:32:34.214717Z",
     "start_time": "2020-05-05T00:32:33.325564Z"
    }
   },
   "outputs": [],
   "source": [
    "from pomegranate import *\n",
    "import numpy\n",
    "import csv\n",
    "import itertools\n",
    "import sys\n",
    "import os"
   ]
  },
  {
   "cell_type": "code",
   "execution_count": 2,
   "metadata": {
    "ExecuteTime": {
     "end_time": "2020-05-05T00:32:34.221441Z",
     "start_time": "2020-05-05T00:32:34.216034Z"
    }
   },
   "outputs": [
    {
     "data": {
      "text/plain": [
       "'/home/philip/Learning/Computer_Science/CS50_Python/Projects/heredity/pomegranate'"
      ]
     },
     "execution_count": 2,
     "metadata": {},
     "output_type": "execute_result"
    }
   ],
   "source": [
    "os.getcwd()"
   ]
  },
  {
   "cell_type": "code",
   "execution_count": 3,
   "metadata": {
    "ExecuteTime": {
     "end_time": "2020-05-05T00:32:34.226665Z",
     "start_time": "2020-05-05T00:32:34.223397Z"
    }
   },
   "outputs": [],
   "source": [
    "#PROBS[\"mutation\"]\n",
    "mu = 0.01\n",
    "data_index = 0"
   ]
  },
  {
   "cell_type": "code",
   "execution_count": 4,
   "metadata": {
    "ExecuteTime": {
     "end_time": "2020-05-05T00:32:34.263533Z",
     "start_time": "2020-05-05T00:32:34.229590Z"
    }
   },
   "outputs": [
    {
     "data": {
      "text/plain": [
       "{'Harry': {'name': 'Harry',\n",
       "  'mother': 'Lily',\n",
       "  'father': 'James',\n",
       "  'trait': None},\n",
       " 'James': {'name': 'James', 'mother': None, 'father': None, 'trait': True},\n",
       " 'Lily': {'name': 'Lily', 'mother': None, 'father': None, 'trait': False}}"
      ]
     },
     "execution_count": 4,
     "metadata": {},
     "output_type": "execute_result"
    }
   ],
   "source": [
    "\n",
    "def load_data(filename):\n",
    "    \"\"\"\n",
    "    Load gene and trait data from a file into a dictionary.\n",
    "    File assumed to be a CSV containing fields name, mother, father, trait.\n",
    "    mother, father must both be blank, or both be valid names in the CSV.\n",
    "    trait should be 0 or 1 if trait is known, blank otherwise.\n",
    "    \"\"\"\n",
    "    data = dict()\n",
    "    with open(filename) as f:\n",
    "        reader = csv.DictReader(f)\n",
    "        for row in reader:\n",
    "            name = row[\"name\"]\n",
    "            data[name] = {\n",
    "                \"name\": name,\n",
    "                \"mother\": row[\"mother\"] or None,\n",
    "                \"father\": row[\"father\"] or None,\n",
    "                \"trait\": (True if row[\"trait\"] == \"1\" else\n",
    "                          False if row[\"trait\"] == \"0\" else None)\n",
    "            }\n",
    "    return data\n",
    "\n",
    "\n",
    "\n",
    "people = load_data(f'../data/family{data_index}.csv')\n",
    "people\n"
   ]
  },
  {
   "cell_type": "code",
   "execution_count": 5,
   "metadata": {
    "ExecuteTime": {
     "end_time": "2020-05-05T00:32:34.288410Z",
     "start_time": "2020-05-05T00:32:34.265216Z"
    }
   },
   "outputs": [],
   "source": [
    "\n",
    "nodes = {\n",
    "    person: {\n",
    "        \"gene\": Node(\n",
    "            DiscreteDistribution({\n",
    "                \"2\": 0.01,\n",
    "                \"1\": 0.03,\n",
    "                \"0\": 0.96})\n",
    "        , name=person)\n",
    "    }\n",
    "    for person in people\n",
    "}\n"
   ]
  },
  {
   "cell_type": "code",
   "execution_count": 7,
   "metadata": {
    "ExecuteTime": {
     "end_time": "2020-05-05T00:32:34.319061Z",
     "start_time": "2020-05-05T00:32:34.302380Z"
    }
   },
   "outputs": [],
   "source": [
    "for person in people:\n",
    "    if (people[person]['mother']!=None) & (people[person]['father']!=None):\n",
    "        nodes[person]['gene'] =  Node(ConditionalProbabilityTable([\n",
    "                [\"2\", \"2\", \"2\", (1-mu)*(1-mu)],\n",
    "                [\"2\", \"2\", \"1\", 2*(1-mu)*mu],\n",
    "                [\"2\", \"2\", \"0\", mu*mu],\n",
    "\n",
    "                [\"2\", \"1\", \"2\", (1-mu)*0.5],\n",
    "                [\"2\", \"1\", \"1\", ((1-mu)*0.5 + mu*0.5)],\n",
    "                [\"2\", \"1\", \"0\", mu*0.5],\n",
    "\n",
    "                [\"2\", \"0\", \"2\", (1-mu)*mu],\n",
    "                [\"2\", \"0\", \"1\", 1-2*mu+2*mu**2],\n",
    "                [\"2\", \"0\", \"0\", mu*(1-mu)],\n",
    "\n",
    "                [\"1\", \"2\", \"2\", 0.5*(1-mu)],\n",
    "                [\"1\", \"2\", \"1\", 0.5],\n",
    "                [\"1\", \"2\", \"0\", 0.5*mu],\n",
    "\n",
    "                [\"1\", \"1\", \"2\", 0.25],\n",
    "                [\"1\", \"1\", \"1\", 0.5],\n",
    "                [\"1\", \"1\", \"0\", 0.25],\n",
    "\n",
    "                [\"1\", \"0\", \"2\", 0.5*mu],\n",
    "                [\"1\", \"0\", \"1\", 0.5],\n",
    "                [\"1\", \"0\", \"0\", 0.5*(1-mu)],\n",
    "\n",
    "                [\"0\", \"2\", \"2\", mu*(1-mu)],\n",
    "                [\"0\", \"2\", \"1\", mu*mu+(1-mu)*(1-mu)],\n",
    "                [\"0\", \"2\", \"0\", (1-mu)*mu],\n",
    "\n",
    "                [\"0\", \"1\", \"2\", mu*0.5],\n",
    "                [\"0\", \"1\", \"1\", 0.5],\n",
    "                [\"0\", \"1\", \"0\", (1-mu)*0.5],\n",
    "\n",
    "                [\"0\", \"0\", \"2\", mu*mu],\n",
    "                [\"0\", \"0\", \"1\", 2*mu*(1-mu)],\n",
    "                [\"0\", \"0\", \"0\", (1-mu)*(1-mu)]],\n",
    "            [nodes[people[person]['mother']]['gene'].distribution, nodes[people[person]['father']]['gene'].distribution]),\n",
    "        name=person)\n"
   ]
  },
  {
   "cell_type": "code",
   "execution_count": 8,
   "metadata": {
    "ExecuteTime": {
     "end_time": "2020-05-05T00:32:34.347494Z",
     "start_time": "2020-05-05T00:32:34.320576Z"
    }
   },
   "outputs": [
    {
     "name": "stdout",
     "output_type": "stream",
     "text": [
      "Harry\n",
      "James\n",
      "Lily\n"
     ]
    }
   ],
   "source": [
    "for person in people:\n",
    "    #Track trait node is conditional on person\n",
    "    print(person)\n",
    "    nodes[person]['trait'] = Node(ConditionalProbabilityTable([\n",
    "        [\"2\", 'yes', 0.65],\n",
    "        [\"2\", 'no', 0.35],\n",
    "        [\"1\", 'yes', 0.56],\n",
    "        [\"1\", 'no', 0.44],\n",
    "        [\"0\", 'yes', 0.01],\n",
    "        [\"0\", 'no', 0.99]\n",
    "    ], [nodes[person]['gene'].distribution]), name=person+\"_trait\")\n"
   ]
  },
  {
   "cell_type": "code",
   "execution_count": 9,
   "metadata": {
    "ExecuteTime": {
     "end_time": "2020-05-05T00:32:34.354746Z",
     "start_time": "2020-05-05T00:32:34.350426Z"
    }
   },
   "outputs": [],
   "source": [
    "# create the general Bayesian network\n",
    "model = BayesianNetwork()\n",
    "\n",
    "\n",
    "# add node into this network\n",
    "for person in people:\n",
    "    model.add_states(nodes[person]['gene'])\n",
    "    model.add_states(nodes[person]['trait'])\n"
   ]
  },
  {
   "cell_type": "code",
   "execution_count": 10,
   "metadata": {
    "ExecuteTime": {
     "end_time": "2020-05-05T00:32:34.364467Z",
     "start_time": "2020-05-05T00:32:34.356772Z"
    }
   },
   "outputs": [],
   "source": [
    "# Add edges connecting nodes\n",
    "for person in people:\n",
    "    model.add_edge(nodes[person]['gene'], nodes[person]['trait'])\n",
    "        \n",
    "    if people[person]['mother']:\n",
    "        model.add_edge(nodes[people[person]['mother']]['gene'], nodes[person]['gene'])\n",
    "        \n",
    "    if people[person]['father']:\n",
    "        model.add_edge(nodes[people[person]['father']]['gene'], nodes[person]['gene'])\n"
   ]
  },
  {
   "cell_type": "code",
   "execution_count": 11,
   "metadata": {
    "ExecuteTime": {
     "end_time": "2020-05-05T00:32:34.377278Z",
     "start_time": "2020-05-05T00:32:34.366939Z"
    }
   },
   "outputs": [],
   "source": [
    "# Finalize model\n",
    "model.bake()"
   ]
  },
  {
   "cell_type": "code",
   "execution_count": 12,
   "metadata": {
    "ExecuteTime": {
     "end_time": "2020-05-05T00:32:34.386246Z",
     "start_time": "2020-05-05T00:32:34.379849Z"
    }
   },
   "outputs": [
    {
     "name": "stdout",
     "output_type": "stream",
     "text": [
      "-----------Harry-----------:\n",
      "  Gene:\n",
      "2\t2\t0\t0.00010000000000000009\n",
      "2\t2\t1\t0.019799999999999998\n",
      "2\t2\t2\t0.9801\n",
      "2\t1\t0\t0.005000000000000002\n",
      "2\t1\t1\t0.5\n",
      "2\t1\t2\t0.495\n",
      "2\t0\t0\t0.009899999999999999\n",
      "2\t0\t1\t0.9802\n",
      "2\t0\t2\t0.009899999999999999\n",
      "1\t2\t0\t0.005000000000000002\n",
      "1\t2\t1\t0.5\n",
      "1\t2\t2\t0.495\n",
      "1\t1\t0\t0.25\n",
      "1\t1\t1\t0.5\n",
      "1\t1\t2\t0.25\n",
      "1\t0\t0\t0.495\n",
      "1\t0\t1\t0.5\n",
      "1\t0\t2\t0.005000000000000002\n",
      "0\t2\t0\t0.009899999999999999\n",
      "0\t2\t1\t0.9802\n",
      "0\t2\t2\t0.009899999999999999\n",
      "0\t1\t0\t0.495\n",
      "0\t1\t1\t0.5\n",
      "0\t1\t2\t0.005000000000000002\n",
      "0\t0\t0\t0.9801\n",
      "0\t0\t1\t0.019799999999999998\n",
      "0\t0\t2\t0.00010000000000000009\n",
      "  Trait:\n",
      "0\tyes\t0.010000000000000004\n",
      "0\tno\t0.99\n",
      "1\tyes\t0.56\n",
      "1\tno\t0.44\n",
      "2\tyes\t0.65\n",
      "2\tno\t0.3499999999999999\n",
      "-----------James-----------:\n",
      "  Gene:\n",
      "{\n",
      "    \"class\" :\"Distribution\",\n",
      "    \"dtype\" :\"str\",\n",
      "    \"name\" :\"DiscreteDistribution\",\n",
      "    \"parameters\" :[\n",
      "        {\n",
      "            \"2\" :0.01,\n",
      "            \"1\" :0.03,\n",
      "            \"0\" :0.96\n",
      "        }\n",
      "    ],\n",
      "    \"frozen\" :false\n",
      "}\n",
      "  Trait:\n",
      "2\tyes\t0.65\n",
      "2\tno\t0.3499999999999999\n",
      "1\tyes\t0.56\n",
      "1\tno\t0.44\n",
      "0\tyes\t0.010000000000000004\n",
      "0\tno\t0.99\n",
      "-----------Lily-----------:\n",
      "  Gene:\n",
      "{\n",
      "    \"class\" :\"Distribution\",\n",
      "    \"dtype\" :\"str\",\n",
      "    \"name\" :\"DiscreteDistribution\",\n",
      "    \"parameters\" :[\n",
      "        {\n",
      "            \"2\" :0.01,\n",
      "            \"1\" :0.03,\n",
      "            \"0\" :0.96\n",
      "        }\n",
      "    ],\n",
      "    \"frozen\" :false\n",
      "}\n",
      "  Trait:\n",
      "2\tyes\t0.65\n",
      "2\tno\t0.3499999999999999\n",
      "1\tyes\t0.56\n",
      "1\tno\t0.44\n",
      "0\tyes\t0.010000000000000004\n",
      "0\tno\t0.99\n"
     ]
    }
   ],
   "source": [
    "for person in people:\n",
    "    print(f\"-----------{person}-----------:\")\n",
    "    for field in nodes[person]:\n",
    "        print(f\"  {field.capitalize()}:\")\n",
    "        print(nodes[person][field].distribution)\n"
   ]
  },
  {
   "cell_type": "code",
   "execution_count": 13,
   "metadata": {
    "ExecuteTime": {
     "end_time": "2020-05-05T00:32:34.620953Z",
     "start_time": "2020-05-05T00:32:34.388900Z"
    }
   },
   "outputs": [
    {
     "data": {
      "image/png": "[encoded data removed]",
      "text/plain": [
       "<Figure size 432x288 with 1 Axes>"
      ]
     },
     "metadata": {
      "needs_background": "light"
     },
     "output_type": "display_data"
    }
   ],
   "source": [
    "model.plot()"
   ]
  },
  {
   "cell_type": "code",
   "execution_count": 14,
   "metadata": {
    "ExecuteTime": {
     "end_time": "2020-05-05T00:32:34.629625Z",
     "start_time": "2020-05-05T00:32:34.623834Z"
    }
   },
   "outputs": [],
   "source": [
    "# Incorporate the trait data into the model\n",
    "input_dict = {}\n",
    "for person in people:\n",
    "    if people[person]['trait']==0:\n",
    "        input_dict[person+'_trait'] = 'no'\n",
    "    elif people[person]['trait']==1:\n",
    "        input_dict[person+'_trait'] = 'yes'"
   ]
  },
  {
   "cell_type": "code",
   "execution_count": 15,
   "metadata": {
    "ExecuteTime": {
     "end_time": "2020-05-05T00:32:34.642013Z",
     "start_time": "2020-05-05T00:32:34.632423Z"
    }
   },
   "outputs": [
    {
     "name": "stdout",
     "output_type": "stream",
     "text": [
      "Harry\n",
      "    0: 0.5351\n",
      "    1: 0.4557\n",
      "    2: 0.0092\n",
      "Harry_trait\n",
      "    yes: 0.2665\n",
      "    no: 0.7335\n",
      "James\n",
      "    2: 0.1976\n",
      "    1: 0.5106\n",
      "    0: 0.2918\n",
      "James_trait: yes\n",
      "Lily\n",
      "    2: 0.0036\n",
      "    1: 0.0136\n",
      "    0: 0.9827\n",
      "Lily_trait: no\n"
     ]
    }
   ],
   "source": [
    "#Calculate predictions\n",
    "predictions = model.predict_proba(input_dict)\n",
    "\n",
    "\n",
    "# Print predictions for each node\n",
    "for node, prediction in zip(model.states, predictions):\n",
    "    if isinstance(prediction, str):\n",
    "        print(f\"{node.name}: {prediction}\")\n",
    "    else:\n",
    "        print(f\"{node.name}\")\n",
    "        for value, probability in prediction.parameters[0].items():\n",
    "            print(f\"    {value}: {probability:.4f}\")"
   ]
  }
 ],
 "metadata": {
  "hide_input": false,
  "kernelspec": {
   "display_name": "Python 3.6.5 64-bit ('deep_learn_py3': virtualenv)",
   "language": "python",
   "name": "python36564bitdeeplearnpy3virtualenvc447f694d85b489d81e265f8e2065388"
  },
  "language_info": {
   "codemirror_mode": {
    "name": "ipython",
    "version": 3
   },
   "file_extension": ".py",
   "mimetype": "text/x-python",
   "name": "python",
   "nbconvert_exporter": "python",
   "pygments_lexer": "ipython3",
   "version": "3.6.5"
  },
  "toc": {
   "base_numbering": 1,
   "nav_menu": {},
   "number_sections": true,
   "sideBar": true,
   "skip_h1_title": false,
   "title_cell": "Table of Contents",
   "title_sidebar": "Contents",
   "toc_cell": false,
   "toc_position": {},
   "toc_section_display": true,
   "toc_window_display": false
  }
 },
 "nbformat": 4,
 "nbformat_minor": 2
}
